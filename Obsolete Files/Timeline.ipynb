{
 "cells": [
  {
   "cell_type": "code",
   "execution_count": 1,
   "id": "d4b5ea11",
   "metadata": {},
   "outputs": [],
   "source": [
    "import pandas as pd \n",
    "import numpy as np \n",
    "import matplotlib.pyplot as plt\n",
    "from pathlib import Path\n",
    "from pprint import pprint\n",
    "from datetime import date, datetime, timedelta \n",
    "import seaborn as sns\n"
   ]
  },
  {
   "cell_type": "code",
   "execution_count": 2,
   "id": "7aa93f2c",
   "metadata": {},
   "outputs": [],
   "source": [
    "aviation_accidents = Path(\"/Users/jackie/Desktop/WORK Aviation-Crash-Visualization-Project WORKING copy/Resources/AviationAccidentsData.csv\")"
   ]
  },
  {
   "cell_type": "code",
   "execution_count": 3,
   "id": "453fee1e",
   "metadata": {},
   "outputs": [],
   "source": [
    "accident_data = pd.read_csv(aviation_accidents)"
   ]
  },
  {
   "cell_type": "code",
   "execution_count": 4,
   "id": "43da43de",
   "metadata": {},
   "outputs": [
    {
     "data": {
      "text/html": [
       "<div>\n",
       "<style scoped>\n",
       "    .dataframe tbody tr th:only-of-type {\n",
       "        vertical-align: middle;\n",
       "    }\n",
       "\n",
       "    .dataframe tbody tr th {\n",
       "        vertical-align: top;\n",
       "    }\n",
       "\n",
       "    .dataframe thead th {\n",
       "        text-align: right;\n",
       "    }\n",
       "</style>\n",
       "<table border=\"1\" class=\"dataframe\">\n",
       "  <thead>\n",
       "    <tr style=\"text-align: right;\">\n",
       "      <th></th>\n",
       "      <th>Unnamed: 0</th>\n",
       "      <th>acc. date</th>\n",
       "      <th>type</th>\n",
       "      <th>operator</th>\n",
       "      <th>fat.</th>\n",
       "      <th>location</th>\n",
       "      <th>dmg</th>\n",
       "    </tr>\n",
       "  </thead>\n",
       "  <tbody>\n",
       "    <tr>\n",
       "      <th>0</th>\n",
       "      <td>0</td>\n",
       "      <td>5 Jan 1972</td>\n",
       "      <td>Douglas C-47B-20-DK Dakota 4MFP</td>\n",
       "      <td>McKenzie Air</td>\n",
       "      <td>0</td>\n",
       "      <td>Norman Wells Airport, NT (YVQ)</td>\n",
       "      <td>sub</td>\n",
       "    </tr>\n",
       "    <tr>\n",
       "      <th>1</th>\n",
       "      <td>1</td>\n",
       "      <td>6 Jan 1972</td>\n",
       "      <td>Hawker Siddeley HS-748-230 Srs. 2A</td>\n",
       "      <td>SAESA - Servicios Aéreos Especiales SA</td>\n",
       "      <td>23</td>\n",
       "      <td>40 km NW of Chetumal</td>\n",
       "      <td>w/o</td>\n",
       "    </tr>\n",
       "    <tr>\n",
       "      <th>2</th>\n",
       "      <td>2</td>\n",
       "      <td>7 Jan 1972</td>\n",
       "      <td>Boeing 727-200</td>\n",
       "      <td>Pacific Southwest Airlines - PSA</td>\n",
       "      <td>0</td>\n",
       "      <td>Havana-José Martí International Airport (HAV)</td>\n",
       "      <td>non</td>\n",
       "    </tr>\n",
       "    <tr>\n",
       "      <th>3</th>\n",
       "      <td>3</td>\n",
       "      <td>7 Jan 1972</td>\n",
       "      <td>Sud Aviation SE-210 Caravelle VI-R</td>\n",
       "      <td>Iberia</td>\n",
       "      <td>104</td>\n",
       "      <td>ca 15 km W of Ibiza Airport (IBZ)</td>\n",
       "      <td>dst</td>\n",
       "    </tr>\n",
       "    <tr>\n",
       "      <th>4</th>\n",
       "      <td>4</td>\n",
       "      <td>7 Jan 1972</td>\n",
       "      <td>Convair CV-340-68B</td>\n",
       "      <td>Saudi Arabian Airlines</td>\n",
       "      <td>0</td>\n",
       "      <td>Jeddah International Airport</td>\n",
       "      <td>w/o</td>\n",
       "    </tr>\n",
       "  </tbody>\n",
       "</table>\n",
       "</div>"
      ],
      "text/plain": [
       "   Unnamed: 0   acc. date                                type  \\\n",
       "0           0  5 Jan 1972     Douglas C-47B-20-DK Dakota 4MFP   \n",
       "1           1  6 Jan 1972  Hawker Siddeley HS-748-230 Srs. 2A   \n",
       "2           2  7 Jan 1972                      Boeing 727-200   \n",
       "3           3  7 Jan 1972  Sud Aviation SE-210 Caravelle VI-R   \n",
       "4           4  7 Jan 1972                  Convair CV-340-68B   \n",
       "\n",
       "                                 operator fat.  \\\n",
       "0                            McKenzie Air    0   \n",
       "1  SAESA - Servicios Aéreos Especiales SA   23   \n",
       "2        Pacific Southwest Airlines - PSA    0   \n",
       "3                                  Iberia  104   \n",
       "4                  Saudi Arabian Airlines    0   \n",
       "\n",
       "                                        location  dmg  \n",
       "0                 Norman Wells Airport, NT (YVQ)  sub  \n",
       "1                           40 km NW of Chetumal  w/o  \n",
       "2  Havana-José Martí International Airport (HAV)  non  \n",
       "3              ca 15 km W of Ibiza Airport (IBZ)  dst  \n",
       "4                   Jeddah International Airport  w/o  "
      ]
     },
     "execution_count": 4,
     "metadata": {},
     "output_type": "execute_result"
    }
   ],
   "source": [
    "accident_data.head()"
   ]
  },
  {
   "cell_type": "code",
   "execution_count": 5,
   "id": "2f40cf38",
   "metadata": {},
   "outputs": [
    {
     "data": {
      "text/plain": [
       "Index(['Unnamed: 0', 'acc. date', 'type', 'operator', 'fat.', 'location',\n",
       "       'dmg'],\n",
       "      dtype='object')"
      ]
     },
     "execution_count": 5,
     "metadata": {},
     "output_type": "execute_result"
    }
   ],
   "source": [
    "accident_data.columns"
   ]
  },
  {
   "cell_type": "code",
   "execution_count": 6,
   "id": "d7ba0a02",
   "metadata": {},
   "outputs": [
    {
     "data": {
      "text/html": [
       "<div>\n",
       "<style scoped>\n",
       "    .dataframe tbody tr th:only-of-type {\n",
       "        vertical-align: middle;\n",
       "    }\n",
       "\n",
       "    .dataframe tbody tr th {\n",
       "        vertical-align: top;\n",
       "    }\n",
       "\n",
       "    .dataframe thead th {\n",
       "        text-align: right;\n",
       "    }\n",
       "</style>\n",
       "<table border=\"1\" class=\"dataframe\">\n",
       "  <thead>\n",
       "    <tr style=\"text-align: right;\">\n",
       "      <th></th>\n",
       "      <th>acc. date</th>\n",
       "    </tr>\n",
       "  </thead>\n",
       "  <tbody>\n",
       "    <tr>\n",
       "      <th>0</th>\n",
       "      <td>5 Jan 1972</td>\n",
       "    </tr>\n",
       "    <tr>\n",
       "      <th>1</th>\n",
       "      <td>6 Jan 1972</td>\n",
       "    </tr>\n",
       "    <tr>\n",
       "      <th>2</th>\n",
       "      <td>7 Jan 1972</td>\n",
       "    </tr>\n",
       "    <tr>\n",
       "      <th>3</th>\n",
       "      <td>7 Jan 1972</td>\n",
       "    </tr>\n",
       "    <tr>\n",
       "      <th>4</th>\n",
       "      <td>7 Jan 1972</td>\n",
       "    </tr>\n",
       "    <tr>\n",
       "      <th>...</th>\n",
       "      <td>...</td>\n",
       "    </tr>\n",
       "    <tr>\n",
       "      <th>11911</th>\n",
       "      <td>23 Dec 2022</td>\n",
       "    </tr>\n",
       "    <tr>\n",
       "      <th>11912</th>\n",
       "      <td>26 Dec 2022</td>\n",
       "    </tr>\n",
       "    <tr>\n",
       "      <th>11913</th>\n",
       "      <td>27 Dec 2022</td>\n",
       "    </tr>\n",
       "    <tr>\n",
       "      <th>11914</th>\n",
       "      <td>30 Dec 2022</td>\n",
       "    </tr>\n",
       "    <tr>\n",
       "      <th>11915</th>\n",
       "      <td>31 Dec 2022</td>\n",
       "    </tr>\n",
       "  </tbody>\n",
       "</table>\n",
       "<p>11916 rows × 1 columns</p>\n",
       "</div>"
      ],
      "text/plain": [
       "         acc. date\n",
       "0       5 Jan 1972\n",
       "1       6 Jan 1972\n",
       "2       7 Jan 1972\n",
       "3       7 Jan 1972\n",
       "4       7 Jan 1972\n",
       "...            ...\n",
       "11911  23 Dec 2022\n",
       "11912  26 Dec 2022\n",
       "11913  27 Dec 2022\n",
       "11914  30 Dec 2022\n",
       "11915  31 Dec 2022\n",
       "\n",
       "[11916 rows x 1 columns]"
      ]
     },
     "execution_count": 6,
     "metadata": {},
     "output_type": "execute_result"
    }
   ],
   "source": [
    "clean_data = accident_data.drop(columns = ['Unnamed: 0', 'type', 'operator', 'fat.', 'location', 'dmg'])\n",
    "clean_data"
   ]
  },
  {
   "cell_type": "code",
   "execution_count": 7,
   "id": "1c7ed0e9",
   "metadata": {},
   "outputs": [],
   "source": [
    "clean_data['acc. date'] = pd.to_datetime(clean_data['acc. date'])\n",
    "\n",
    "clean_data['Year'] = clean_data['acc. date'].dt.year"
   ]
  },
  {
   "cell_type": "code",
   "execution_count": 8,
   "id": "a13bdc24",
   "metadata": {},
   "outputs": [
    {
     "data": {
      "text/html": [
       "<div>\n",
       "<style scoped>\n",
       "    .dataframe tbody tr th:only-of-type {\n",
       "        vertical-align: middle;\n",
       "    }\n",
       "\n",
       "    .dataframe tbody tr th {\n",
       "        vertical-align: top;\n",
       "    }\n",
       "\n",
       "    .dataframe thead th {\n",
       "        text-align: right;\n",
       "    }\n",
       "</style>\n",
       "<table border=\"1\" class=\"dataframe\">\n",
       "  <thead>\n",
       "    <tr style=\"text-align: right;\">\n",
       "      <th></th>\n",
       "      <th>acc. date</th>\n",
       "      <th>Year</th>\n",
       "    </tr>\n",
       "  </thead>\n",
       "  <tbody>\n",
       "    <tr>\n",
       "      <th>0</th>\n",
       "      <td>1972-01-05</td>\n",
       "      <td>1972</td>\n",
       "    </tr>\n",
       "    <tr>\n",
       "      <th>1</th>\n",
       "      <td>1972-01-06</td>\n",
       "      <td>1972</td>\n",
       "    </tr>\n",
       "    <tr>\n",
       "      <th>2</th>\n",
       "      <td>1972-01-07</td>\n",
       "      <td>1972</td>\n",
       "    </tr>\n",
       "    <tr>\n",
       "      <th>3</th>\n",
       "      <td>1972-01-07</td>\n",
       "      <td>1972</td>\n",
       "    </tr>\n",
       "    <tr>\n",
       "      <th>4</th>\n",
       "      <td>1972-01-07</td>\n",
       "      <td>1972</td>\n",
       "    </tr>\n",
       "    <tr>\n",
       "      <th>...</th>\n",
       "      <td>...</td>\n",
       "      <td>...</td>\n",
       "    </tr>\n",
       "    <tr>\n",
       "      <th>11911</th>\n",
       "      <td>2022-12-23</td>\n",
       "      <td>2022</td>\n",
       "    </tr>\n",
       "    <tr>\n",
       "      <th>11912</th>\n",
       "      <td>2022-12-26</td>\n",
       "      <td>2022</td>\n",
       "    </tr>\n",
       "    <tr>\n",
       "      <th>11913</th>\n",
       "      <td>2022-12-27</td>\n",
       "      <td>2022</td>\n",
       "    </tr>\n",
       "    <tr>\n",
       "      <th>11914</th>\n",
       "      <td>2022-12-30</td>\n",
       "      <td>2022</td>\n",
       "    </tr>\n",
       "    <tr>\n",
       "      <th>11915</th>\n",
       "      <td>2022-12-31</td>\n",
       "      <td>2022</td>\n",
       "    </tr>\n",
       "  </tbody>\n",
       "</table>\n",
       "<p>11916 rows × 2 columns</p>\n",
       "</div>"
      ],
      "text/plain": [
       "       acc. date  Year\n",
       "0     1972-01-05  1972\n",
       "1     1972-01-06  1972\n",
       "2     1972-01-07  1972\n",
       "3     1972-01-07  1972\n",
       "4     1972-01-07  1972\n",
       "...          ...   ...\n",
       "11911 2022-12-23  2022\n",
       "11912 2022-12-26  2022\n",
       "11913 2022-12-27  2022\n",
       "11914 2022-12-30  2022\n",
       "11915 2022-12-31  2022\n",
       "\n",
       "[11916 rows x 2 columns]"
      ]
     },
     "execution_count": 8,
     "metadata": {},
     "output_type": "execute_result"
    }
   ],
   "source": [
    "clean_data"
   ]
  },
  {
   "cell_type": "code",
   "execution_count": 10,
   "id": "3d31742b",
   "metadata": {},
   "outputs": [
    {
     "data": {
      "text/plain": [
       "<Axes: xlabel='None'>"
      ]
     },
     "execution_count": 10,
     "metadata": {},
     "output_type": "execute_result"
    },
    {
     "data": {
      "image/png": "[encoded data removed]",
      "text/plain": [
       "<Figure size 640x480 with 1 Axes>"
      ]
     },
     "metadata": {},
     "output_type": "display_data"
    }
   ],
   "source": [
    "clean_data = clean_data[clean_data['Year']>1972]\n",
    "year_counts=clean_data['Year'].value_counts().sort_index()\n",
    "sns.lineplot(x=year_counts.index, y=year_counts.values, marker='o', color='green')"
   ]
  },
  {
   "cell_type": "code",
   "execution_count": null,
   "id": "90f08ba1",
   "metadata": {},
   "outputs": [],
   "source": []
  }
 ],
 "metadata": {
  "kernelspec": {
   "display_name": "Python 3 (ipykernel)",
   "language": "python",
   "name": "python3"
  },
  "language_info": {
   "codemirror_mode": {
    "name": "ipython",
    "version": 3
   },
   "file_extension": ".py",
   "mimetype": "text/x-python",
   "name": "python",
   "nbconvert_exporter": "python",
   "pygments_lexer": "ipython3",
   "version": "3.10.9"
  }
 },
 "nbformat": 4,
 "nbformat_minor": 5
}
