{
 "cells": [
  {
   "cell_type": "code",
   "execution_count": 1,
   "id": "d44e5df2",
   "metadata": {},
   "outputs": [],
   "source": [
    "#*******************************************************************************************\n",
    " #\n",
    " #  File Name:  PyLogConstants.py\n",
    " #\n",
    " #  File Description:\n",
    " #      This Python script, PyLogFunctions.py, contains generic Python constants\n",
    " #      for writing information to log files.\n",
    " #\n",
    " #\n",
    " #  Date            Description                             Programmer\n",
    " #  ----------      ------------------------------------    ------------------\n",
    " #  08/24/2023      Initial Development                     N James George\n",
    " #\n",
    " #******************************************************************************************/"
   ]
  },
  {
   "cell_type": "code",
   "execution_count": 2,
   "id": "be8b876d",
   "metadata": {},
   "outputs": [],
   "source": [
    "CONSTANT_LOCAL_FILE_NAME \\\n",
    "    = 'PyLogConstants.py'"
   ]
  },
  {
   "cell_type": "code",
   "execution_count": 3,
   "id": "30475155",
   "metadata": {},
   "outputs": [],
   "source": [
    "DEBUG_FLAG \\\n",
    "    = False\n",
    "\n",
    "LOG_FLAG \\\n",
    "    = False\n",
    "\n",
    "IMAGE_FLAG \\\n",
    "    = False\n",
    "\n",
    "\n",
    "PROGRAM_DESIGNATION \\\n",
    "    = ''\n",
    "\n",
    "\n",
    "LOGS_DIRECTORY_PATH \\\n",
    "    = './Logs'\n",
    "\n",
    "RESOURCES_DIRECTORY_PATH \\\n",
    "    = './Resources'\n",
    "\n",
    "IMAGES_DIRECTORY_PATH \\\n",
    "    = './Images'\n",
    "\n",
    "\n",
    "BASE_LOG_FILE_NAME \\\n",
    "    = 'Log.txt'\n",
    "\n",
    "BASE_DEBUG_FILE_NAME \\\n",
    "    = 'Debug.txt'\n",
    "\n",
    "\n",
    "LOG_FILE_PATH \\\n",
    "    = ''\n",
    "\n",
    "DEBUG_FILE_PATH \\\n",
    "    = ''\n",
    "\n",
    "\n",
    "logTxtFile \\\n",
    "    = None\n",
    "\n",
    "debugTxtFile \\\n",
    "    = None"
   ]
  },
  {
   "cell_type": "code",
   "execution_count": null,
   "id": "3254231a",
   "metadata": {},
   "outputs": [],
   "source": []
  }
 ],
 "metadata": {
  "kernelspec": {
   "display_name": "Python 3 (ipykernel)",
   "language": "python",
   "name": "python3"
  },
  "language_info": {
   "codemirror_mode": {
    "name": "ipython",
    "version": 3
   },
   "file_extension": ".py",
   "mimetype": "text/x-python",
   "name": "python",
   "nbconvert_exporter": "python",
   "pygments_lexer": "ipython3",
   "version": "3.11.4"
  }
 },
 "nbformat": 4,
 "nbformat_minor": 5
}
