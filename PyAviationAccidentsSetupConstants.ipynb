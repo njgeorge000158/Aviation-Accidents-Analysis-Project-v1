{
 "cells": [
  {
   "cell_type": "code",
   "execution_count": 1,
   "id": "5a60c25e",
   "metadata": {},
   "outputs": [],
   "source": [
    "#*******************************************************************************************\n",
    " #\n",
    " #  File Name:  PyAviationAccidentsSetupConstants.py\n",
    " #\n",
    " #  File Description:\n",
    " #      This Python script, PyAviationAccidentsSetupConstants.py, contains generic \n",
    " #      Python constants for completing common tasks for the Aviation Accidents \n",
    " #      Project.\n",
    " #\n",
    " #\n",
    " #  Date            Description                             Programmer\n",
    " #  ----------      ------------------------------------    ------------------\n",
    " #  10/05/2023      Initial Development                     N. James George\n",
    " #\n",
    " #******************************************************************************************/"
   ]
  },
  {
   "cell_type": "code",
   "execution_count": 2,
   "id": "ac56efd1",
   "metadata": {},
   "outputs": [],
   "source": [
    "CONSTANT_LOCAL_FILE_NAME \\\n",
    "    = 'PyAviationAccidentsSetupConstants.py'"
   ]
  },
  {
   "cell_type": "code",
   "execution_count": 3,
   "id": "85be2c92",
   "metadata": {},
   "outputs": [],
   "source": [
    "AVIATION_ACCIDENTS_URL \\\n",
    "    = 'https://aviation-safety.net/database/year/'\n",
    "\n",
    "AVIATION_ACCIDENTS_DATA_FILE \\\n",
    "    = './Resources/AviationSafetyData.csv'\n",
    "\n",
    "BEGIN_YEAR \\\n",
    "    = 1972\n",
    "\n",
    "END_YEAR \\\n",
    "    = 2022"
   ]
  }
 ],
 "metadata": {
  "kernelspec": {
   "display_name": "Python 3 (ipykernel)",
   "language": "python",
   "name": "python3"
  },
  "language_info": {
   "codemirror_mode": {
    "name": "ipython",
    "version": 3
   },
   "file_extension": ".py",
   "mimetype": "text/x-python",
   "name": "python",
   "nbconvert_exporter": "python",
   "pygments_lexer": "ipython3",
   "version": "3.11.4"
  }
 },
 "nbformat": 4,
 "nbformat_minor": 5
}
