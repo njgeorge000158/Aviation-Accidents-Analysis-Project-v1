{
 "cells": [
  {
   "cell_type": "code",
   "execution_count": 22,
   "id": "21f87ce2",
   "metadata": {},
   "outputs": [],
   "source": [
    "import pandas as pd\n",
    "import requests\n",
    "import json\n",
    "from pathlib import Path\n",
    "from pprint import pprint"
   ]
  },
  {
   "cell_type": "code",
   "execution_count": 23,
   "id": "ae379ae4",
   "metadata": {},
   "outputs": [],
   "source": [
    "filepath = Path(\"Resources/Aviation_Accident.csv\")\n",
    "Aviation_Accident_df = pd.read_csv(filepath, encoding=\"ISO-8859-1\")"
   ]
  },
  {
   "cell_type": "code",
   "execution_count": 24,
   "id": "9678bf5b",
   "metadata": {},
   "outputs": [
    {
     "data": {
      "text/html": [
       "<div>\n",
       "<style scoped>\n",
       "    .dataframe tbody tr th:only-of-type {\n",
       "        vertical-align: middle;\n",
       "    }\n",
       "\n",
       "    .dataframe tbody tr th {\n",
       "        vertical-align: top;\n",
       "    }\n",
       "\n",
       "    .dataframe thead th {\n",
       "        text-align: right;\n",
       "    }\n",
       "</style>\n",
       "<table border=\"1\" class=\"dataframe\">\n",
       "  <thead>\n",
       "    <tr style=\"text-align: right;\">\n",
       "      <th></th>\n",
       "      <th>Unnamed: 0</th>\n",
       "      <th>acc. date</th>\n",
       "      <th>type</th>\n",
       "      <th>operator</th>\n",
       "      <th>fat.</th>\n",
       "      <th>location</th>\n",
       "      <th>dmg</th>\n",
       "    </tr>\n",
       "  </thead>\n",
       "  <tbody>\n",
       "    <tr>\n",
       "      <th>0</th>\n",
       "      <td>3</td>\n",
       "      <td>7 Jan 1972</td>\n",
       "      <td>Sud Aviation SE-210 Caravelle VI-R</td>\n",
       "      <td>Iberia</td>\n",
       "      <td>104</td>\n",
       "      <td>ca 15 km W of Ibiza Airport (IBZ)</td>\n",
       "      <td>dst</td>\n",
       "    </tr>\n",
       "    <tr>\n",
       "      <th>1</th>\n",
       "      <td>56</td>\n",
       "      <td>14 Mar 1972</td>\n",
       "      <td>Sud Aviation SE-210 Caravelle 10B3</td>\n",
       "      <td>Sterling Airways</td>\n",
       "      <td>112</td>\n",
       "      <td>ca 20 km W of Kalba</td>\n",
       "      <td>dst</td>\n",
       "    </tr>\n",
       "    <tr>\n",
       "      <th>2</th>\n",
       "      <td>109</td>\n",
       "      <td>5 May 1972</td>\n",
       "      <td>Douglas DC-8-43</td>\n",
       "      <td>Alitalia</td>\n",
       "      <td>115</td>\n",
       "      <td>5 km SW of Palermo</td>\n",
       "      <td>dst</td>\n",
       "    </tr>\n",
       "    <tr>\n",
       "      <th>3</th>\n",
       "      <td>124</td>\n",
       "      <td>18 May 1972</td>\n",
       "      <td>Antonov An-10A</td>\n",
       "      <td>Aeroflot / Ukraine</td>\n",
       "      <td>122</td>\n",
       "      <td>24 km from Kharkov Airport (HRK)</td>\n",
       "      <td>dst</td>\n",
       "    </tr>\n",
       "    <tr>\n",
       "      <th>4</th>\n",
       "      <td>148</td>\n",
       "      <td>14 Jun 1972</td>\n",
       "      <td>Douglas DC-8-53</td>\n",
       "      <td>Japan Air Lines - JAL</td>\n",
       "      <td>86</td>\n",
       "      <td>ca 20 km E of Delhi-Palam Airport (DEL)</td>\n",
       "      <td>dst</td>\n",
       "    </tr>\n",
       "  </tbody>\n",
       "</table>\n",
       "</div>"
      ],
      "text/plain": [
       "   Unnamed: 0    acc. date                                type  \\\n",
       "0           3   7 Jan 1972  Sud Aviation SE-210 Caravelle VI-R   \n",
       "1          56  14 Mar 1972  Sud Aviation SE-210 Caravelle 10B3   \n",
       "2         109   5 May 1972                     Douglas DC-8-43   \n",
       "3         124  18 May 1972                      Antonov An-10A   \n",
       "4         148  14 Jun 1972                     Douglas DC-8-53   \n",
       "\n",
       "                operator  fat.                                 location  dmg  \n",
       "0                 Iberia   104        ca 15 km W of Ibiza Airport (IBZ)  dst  \n",
       "1       Sterling Airways   112                      ca 20 km W of Kalba  dst  \n",
       "2               Alitalia   115                       5 km SW of Palermo  dst  \n",
       "3     Aeroflot / Ukraine   122         24 km from Kharkov Airport (HRK)  dst  \n",
       "4  Japan Air Lines - JAL    86  ca 20 km E of Delhi-Palam Airport (DEL)  dst  "
      ]
     },
     "execution_count": 24,
     "metadata": {},
     "output_type": "execute_result"
    }
   ],
   "source": [
    "Aviation_Accident_df.head()"
   ]
  },
  {
   "cell_type": "code",
   "execution_count": 5,
   "id": "f357e46f",
   "metadata": {},
   "outputs": [],
   "source": [
    "\n",
    "\n",
    "# Build URL using the geocode endpoint\n",
    "base_url = \"https://www.mapquestapi.com/geocoding/v1/address\"\n",
    "\n"
   ]
  },
  {
   "cell_type": "code",
   "execution_count": 9,
   "id": "d6d493c2",
   "metadata": {},
   "outputs": [
    {
     "name": "stdout",
     "output_type": "stream",
     "text": [
      "{'info': {'copyright': {'imageAltText': '© 2023 MapQuest, Inc.',\n",
      "                        'imageUrl': 'http://api.mqcdn.com/res/mqlogo.gif',\n",
      "                        'text': '© 2023 MapQuest, Inc.'},\n",
      "          'messages': [],\n",
      "          'statuscode': 0},\n",
      " 'options': {'ignoreLatLngInput': False, 'maxResults': -1},\n",
      " 'results': [{'locations': [{'adminArea1': 'ES',\n",
      "                             'adminArea1Type': 'Country',\n",
      "                             'adminArea3': 'IB',\n",
      "                             'adminArea3Type': 'State',\n",
      "                             'adminArea4': 'Balearic Islands',\n",
      "                             'adminArea4Type': 'County',\n",
      "                             'adminArea5': 'Sant Josep de sa Talaia',\n",
      "                             'adminArea5Type': 'City',\n",
      "                             'adminArea6': '',\n",
      "                             'adminArea6Type': 'Neighborhood',\n",
      "                             'displayLatLng': {'lat': 38.87607, 'lng': 1.36788},\n",
      "                             'dragPoint': False,\n",
      "                             'geocodeQuality': 'POINT',\n",
      "                             'geocodeQualityCode': 'P1AAA',\n",
      "                             'latLng': {'lat': 38.87695, 'lng': 1.36813},\n",
      "                             'linkId': '0',\n",
      "                             'mapUrl': '',\n",
      "                             'postalCode': '07817',\n",
      "                             'sideOfStreet': 'R',\n",
      "                             'street': 'Aeroport des Codolar',\n",
      "                             'type': 's',\n",
      "                             'unknownInput': ''}],\n",
      "              'providedLocation': {'location': 'ca 15 km W of Ibiza Airport '\n",
      "                                               '(IBZ)'}}]}\n"
     ]
    }
   ],
   "source": [
    "params = {\n",
    "    \"key\": \"vM1pBdZGqVAGKqpVoKq5ZjTjT16JOmf9\",\n",
    "    \"location\": \"ca 15 km W of Ibiza Airport (IBZ)\"\n",
    "        \n",
    "    }\n",
    "response = requests.get(base_url, params=params).json()\n",
    "pprint(response)"
   ]
  },
  {
   "cell_type": "code",
   "execution_count": 10,
   "id": "afa5d4ef",
   "metadata": {},
   "outputs": [
    {
     "name": "stdout",
     "output_type": "stream",
     "text": [
      "ES\n"
     ]
    }
   ],
   "source": [
    "print(response[\"results\"][0][\"locations\"][0][\"adminArea1\"])"
   ]
  },
  {
   "cell_type": "code",
   "execution_count": 12,
   "id": "f2d95fa1",
   "metadata": {},
   "outputs": [
    {
     "data": {
      "text/plain": [
       "1"
      ]
     },
     "execution_count": 12,
     "metadata": {},
     "output_type": "execute_result"
    }
   ],
   "source": [
    "Aviation_Accident_df_sp = Aviation_Accident_df[:1]\n",
    "len(Aviation_Accident_df_sp)"
   ]
  },
  {
   "cell_type": "code",
   "execution_count": 25,
   "id": "c1fe2fb4",
   "metadata": {},
   "outputs": [
    {
     "name": "stdout",
     "output_type": "stream",
     "text": [
      "['ES', 'US', 'CO', 'UA', 'IN', 'VN', 'GB', 'DE', 'US', 'RU', 'RU', 'US', 'RU', 'US', 'US', 'IN', 'US', 'EG', 'US', 'FR', 'FR', 'US', 'US', 'RU', 'US', 'FR', 'US', 'US', 'US', 'TH', 'US', 'US', 'RU', 'US', 'TR', 'US', 'FR', 'US', 'ID', 'US', 'US', 'US', 'US', 'KE', 'US', 'LK', 'VE', 'AR', 'VN', 'US', 'MA', 'US', 'US', 'PE', 'US', 'SA', 'RU', 'RU', 'UA', 'SK', 'EC', 'PT', 'RU', 'RU', 'HR', 'HR', 'TR', 'ZA', 'IN', 'BO', 'US', 'RU', 'TH', 'US', 'RU', 'US', 'US', 'US', 'US', 'DE', 'MA', 'MY', 'IN', 'BG', 'PE', 'LK', 'US', 'IT', 'ZW', 'RU', 'EC', 'US', 'AU', 'US', 'UA', 'RU', 'MX', 'US', 'US', 'US', 'PL', 'US', 'US', 'IT', 'KZ', 'SA', 'SA', 'CO', 'RU', 'IQ', 'TW', 'US', 'US', 'RU', 'FR', 'US', 'ET', 'AE', 'US', 'US', 'BR', 'UA', 'RU', 'US', 'ES', 'US', 'KZ', 'US', 'US', 'US', 'US', 'NG', 'ES', 'ES', 'BG', 'EC', 'RU', 'RU', 'US', 'ZA', 'ES', 'US', 'UA', 'UA', 'IE', 'RU', 'CO', 'US', 'JP', 'GB', 'GB', 'MT', 'CA', 'US', 'ES', 'FI', 'US', 'SS', 'US', 'US', 'IR', 'US', 'SA', 'CI', 'ER', 'PL', 'US', 'US', 'PH', 'US', 'TH', 'US', 'MM', 'US', 'US', 'US', 'TH', 'IN', 'US', 'GB', 'PT', 'US', 'PE', 'US', 'LY', 'US', 'IN', 'DK', 'PY', 'AZ', 'US', 'US', 'CO', 'US', 'IN', 'US', 'US', 'US', 'US', 'US', 'US', 'SA', 'US', 'ID', 'US', 'FR', 'KE', 'YE', 'ID', 'US', 'NP', 'US', 'NG', 'NP', 'ZA', 'PT', 'LY', 'US', 'MK', 'IN', 'AF', 'US', 'US', 'US', 'TJ', 'US', 'US', 'BY', 'RU', 'US', 'KH', 'US', 'US', 'IR', 'US', 'US', 'CO', 'US', 'US', 'BR', 'LK', 'ES', 'US', 'US', 'US', 'RU', 'AO', 'PH', 'CD', 'DO', 'SD', 'PE', 'US', 'US', 'US', 'US', 'PE', 'BR', 'US', 'IN', 'IN', 'KM', 'IL', 'RU', 'TH', 'KH', 'US', 'UY', 'US', 'US', 'GR', 'NL', 'US', 'PH', 'EG', 'CO', 'US', 'EC', 'CA', 'LK', 'TH', 'SE', 'AU', 'AR', 'US', 'CI', 'US', 'PH', 'IN', 'FR', 'BH', 'US', 'TW', 'AO', 'RU', 'US', 'US', 'US', 'RU', 'IT', 'IT', 'US', 'CO', 'IR', 'US', 'US', 'US', 'US', 'CH', 'CH', 'TR', 'US', 'DZ', 'US', 'SD', 'BJ', 'EG', 'US', 'US', 'GQ', 'IT', 'VE', 'ID', 'ZA', 'IR', 'NG', 'RU', 'RU', 'UA', 'BR', 'BR', 'AE', 'US', 'US', 'BR', 'TH', 'US', 'ES', 'IN', 'US', 'US', 'ID', 'BR', 'KM', 'IR', 'US', 'US', 'US', 'IN', 'US', 'CU', 'US', 'US', 'US', 'US', 'NG', 'RU', 'US', 'US', 'SK', 'US', 'NL', 'FR', 'US', 'US', 'EG', 'RU', 'US', 'US', 'US', 'MM', 'RU', 'US', 'NP', 'US', 'US', 'US', 'ET', 'IN', 'US', 'ID', 'PH', 'US']\n"
     ]
    }
   ],
   "source": [
    "country = []\n",
    "state = []\n",
    "city = []\n",
    "LAT = []\n",
    "LNG = []\n",
    "for index, row in Aviation_Accident_df.iterrows():\n",
    "    params = {\n",
    "    \"key\": \"vM1pBdZGqVAGKqpVoKq5ZjTjT16JOmf9\",\n",
    "    \"location\": row[\"location\"]\n",
    "        \n",
    "    }\n",
    "    response = requests.get(base_url, params=params).json()\n",
    "    \n",
    "    country.append(response[\"results\"][0][\"locations\"][0][\"adminArea1\"]) \n",
    "    state.append(response[\"results\"][0][\"locations\"][0][\"adminArea3\"]) \n",
    "    city.append(response[\"results\"][0][\"locations\"][0][\"adminArea5\"])\n",
    "    LAT.append(response[\"results\"][0][\"locations\"][0][\"latLng\"][\"lat\"])\n",
    "    LNG.append(response[\"results\"][0][\"locations\"][0][\"latLng\"][\"lng\"])\n",
    "print(country)    \n"
   ]
  },
  {
   "cell_type": "code",
   "execution_count": 26,
   "id": "4aef82cd",
   "metadata": {},
   "outputs": [],
   "source": [
    "Aviation_Accident_df['country'] = country\n",
    "Aviation_Accident_df['state'] = state\n",
    "Aviation_Accident_df['city'] = city\n",
    "Aviation_Accident_df['LAT'] = LAT\n",
    "Aviation_Accident_df['LNG'] = LNG"
   ]
  },
  {
   "cell_type": "code",
   "execution_count": 27,
   "id": "3e048cfe",
   "metadata": {},
   "outputs": [
    {
     "data": {
      "text/html": [
       "<div>\n",
       "<style scoped>\n",
       "    .dataframe tbody tr th:only-of-type {\n",
       "        vertical-align: middle;\n",
       "    }\n",
       "\n",
       "    .dataframe tbody tr th {\n",
       "        vertical-align: top;\n",
       "    }\n",
       "\n",
       "    .dataframe thead th {\n",
       "        text-align: right;\n",
       "    }\n",
       "</style>\n",
       "<table border=\"1\" class=\"dataframe\">\n",
       "  <thead>\n",
       "    <tr style=\"text-align: right;\">\n",
       "      <th></th>\n",
       "      <th>Unnamed: 0</th>\n",
       "      <th>acc. date</th>\n",
       "      <th>type</th>\n",
       "      <th>operator</th>\n",
       "      <th>fat.</th>\n",
       "      <th>location</th>\n",
       "      <th>dmg</th>\n",
       "      <th>country</th>\n",
       "      <th>state</th>\n",
       "      <th>city</th>\n",
       "      <th>LAT</th>\n",
       "      <th>LNG</th>\n",
       "    </tr>\n",
       "  </thead>\n",
       "  <tbody>\n",
       "    <tr>\n",
       "      <th>0</th>\n",
       "      <td>3</td>\n",
       "      <td>7 Jan 1972</td>\n",
       "      <td>Sud Aviation SE-210 Caravelle VI-R</td>\n",
       "      <td>Iberia</td>\n",
       "      <td>104</td>\n",
       "      <td>ca 15 km W of Ibiza Airport (IBZ)</td>\n",
       "      <td>dst</td>\n",
       "      <td>ES</td>\n",
       "      <td>IB</td>\n",
       "      <td>Sant Josep de sa Talaia</td>\n",
       "      <td>38.87695</td>\n",
       "      <td>1.36813</td>\n",
       "    </tr>\n",
       "    <tr>\n",
       "      <th>1</th>\n",
       "      <td>56</td>\n",
       "      <td>14 Mar 1972</td>\n",
       "      <td>Sud Aviation SE-210 Caravelle 10B3</td>\n",
       "      <td>Sterling Airways</td>\n",
       "      <td>112</td>\n",
       "      <td>ca 20 km W of Kalba</td>\n",
       "      <td>dst</td>\n",
       "      <td>US</td>\n",
       "      <td></td>\n",
       "      <td></td>\n",
       "      <td>38.89037</td>\n",
       "      <td>-77.03196</td>\n",
       "    </tr>\n",
       "    <tr>\n",
       "      <th>2</th>\n",
       "      <td>109</td>\n",
       "      <td>5 May 1972</td>\n",
       "      <td>Douglas DC-8-43</td>\n",
       "      <td>Alitalia</td>\n",
       "      <td>115</td>\n",
       "      <td>5 km SW of Palermo</td>\n",
       "      <td>dst</td>\n",
       "      <td>CO</td>\n",
       "      <td></td>\n",
       "      <td>Palermo</td>\n",
       "      <td>2.88604</td>\n",
       "      <td>-75.43763</td>\n",
       "    </tr>\n",
       "    <tr>\n",
       "      <th>3</th>\n",
       "      <td>124</td>\n",
       "      <td>18 May 1972</td>\n",
       "      <td>Antonov An-10A</td>\n",
       "      <td>Aeroflot / Ukraine</td>\n",
       "      <td>122</td>\n",
       "      <td>24 km from Kharkov Airport (HRK)</td>\n",
       "      <td>dst</td>\n",
       "      <td>UA</td>\n",
       "      <td></td>\n",
       "      <td>Kharkiv</td>\n",
       "      <td>49.91978</td>\n",
       "      <td>36.27854</td>\n",
       "    </tr>\n",
       "    <tr>\n",
       "      <th>4</th>\n",
       "      <td>148</td>\n",
       "      <td>14 Jun 1972</td>\n",
       "      <td>Douglas DC-8-53</td>\n",
       "      <td>Japan Air Lines - JAL</td>\n",
       "      <td>86</td>\n",
       "      <td>ca 20 km E of Delhi-Palam Airport (DEL)</td>\n",
       "      <td>dst</td>\n",
       "      <td>IN</td>\n",
       "      <td>DL</td>\n",
       "      <td>Delhi</td>\n",
       "      <td>28.55574</td>\n",
       "      <td>77.08556</td>\n",
       "    </tr>\n",
       "  </tbody>\n",
       "</table>\n",
       "</div>"
      ],
      "text/plain": [
       "   Unnamed: 0    acc. date                                type  \\\n",
       "0           3   7 Jan 1972  Sud Aviation SE-210 Caravelle VI-R   \n",
       "1          56  14 Mar 1972  Sud Aviation SE-210 Caravelle 10B3   \n",
       "2         109   5 May 1972                     Douglas DC-8-43   \n",
       "3         124  18 May 1972                      Antonov An-10A   \n",
       "4         148  14 Jun 1972                     Douglas DC-8-53   \n",
       "\n",
       "                operator  fat.                                 location  dmg  \\\n",
       "0                 Iberia   104        ca 15 km W of Ibiza Airport (IBZ)  dst   \n",
       "1       Sterling Airways   112                      ca 20 km W of Kalba  dst   \n",
       "2               Alitalia   115                       5 km SW of Palermo  dst   \n",
       "3     Aeroflot / Ukraine   122         24 km from Kharkov Airport (HRK)  dst   \n",
       "4  Japan Air Lines - JAL    86  ca 20 km E of Delhi-Palam Airport (DEL)  dst   \n",
       "\n",
       "  country state                     city       LAT       LNG  \n",
       "0      ES    IB  Sant Josep de sa Talaia  38.87695   1.36813  \n",
       "1      US                                 38.89037 -77.03196  \n",
       "2      CO                        Palermo   2.88604 -75.43763  \n",
       "3      UA                        Kharkiv  49.91978  36.27854  \n",
       "4      IN    DL                    Delhi  28.55574  77.08556  "
      ]
     },
     "execution_count": 27,
     "metadata": {},
     "output_type": "execute_result"
    }
   ],
   "source": [
    "Aviation_Accident_df.head()"
   ]
  },
  {
   "cell_type": "code",
   "execution_count": 28,
   "id": "8778ae6d",
   "metadata": {},
   "outputs": [],
   "source": [
    "Aviation_Accident_df.to_csv(\"Resources/Aviation_Accident_Updated.csv\", index=False, header=True)"
   ]
  },
  {
   "cell_type": "code",
   "execution_count": null,
   "id": "0915e377",
   "metadata": {},
   "outputs": [],
   "source": []
  }
 ],
 "metadata": {
  "kernelspec": {
   "display_name": "Python 3 (ipykernel)",
   "language": "python",
   "name": "python3"
  },
  "language_info": {
   "codemirror_mode": {
    "name": "ipython",
    "version": 3
   },
   "file_extension": ".py",
   "mimetype": "text/x-python",
   "name": "python",
   "nbconvert_exporter": "python",
   "pygments_lexer": "ipython3",
   "version": "3.10.9"
  }
 },
 "nbformat": 4,
 "nbformat_minor": 5
}
