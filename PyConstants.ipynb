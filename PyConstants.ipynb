{
 "cells": [
  {
   "cell_type": "code",
   "execution_count": 1,
   "id": "27bc5a1a",
   "metadata": {},
   "outputs": [],
   "source": [
    "#*******************************************************************************************\n",
    " #\n",
    " #  File Name:  PyConstants.py\n",
    " #\n",
    " #  File Description:\n",
    " #      This Python script, PyFunctions.py, contains generic Python constants\n",
    " #      for completing common tasks.\n",
    " #\n",
    " #\n",
    " #  Date            Description                             Programmer\n",
    " #  ----------      ------------------------------------    ------------------\n",
    " #  08/20/2023      Initial Development                     N James George\n",
    " #\n",
    " #******************************************************************************************/"
   ]
  },
  {
   "cell_type": "code",
   "execution_count": 2,
   "id": "067ebfcd",
   "metadata": {},
   "outputs": [],
   "source": [
    "CONSTANT_LOCAL_FILE_NAME \\\n",
    "    = 'PyConstants.py'"
   ]
  },
  {
   "cell_type": "code",
   "execution_count": 3,
   "id": "e5816339",
   "metadata": {},
   "outputs": [],
   "source": [
    "# This is a global constant for setting coefficient precision for equations.\n",
    "EQUATION_COEFFICIENT_PRECISION \\\n",
    "    = 4\n",
    "\n",
    "\n",
    "# These constants are generic formats for Strings.\n",
    "GENERAL_TEXT_FORMAT \\\n",
    "    = '{:}'\n",
    "\n",
    "INTEGER_FORMAT \\\n",
    "    = '{:,}'\n",
    "\n",
    "FLOAT_FORMAT \\\n",
    "    = '{:,.2f}'\n",
    "\n",
    "FLOAT_AS_INTEGER_FORMAT \\\n",
    "    = '{:,.0f}'\n",
    "\n",
    "CURRENCY_INTEGER_FORMAT \\\n",
    "    = '$' + INTEGER_FORMAT\n",
    "\n",
    "CURRENCY_FLOAT_FORMAT \\\n",
    "    = '$' + FLOAT_FORMAT\n",
    "\n",
    "CURRENCY_FLOAT_AS_INTEGER_FORMAT \\\n",
    "    = '$' + FLOAT_AS_INTEGER_FORMAT\n",
    "\n",
    "PERCENT_FLOAT_FORMAT \\\n",
    "    = FLOAT_FORMAT + '%'\n",
    "\n",
    "PERCENT_INTEGER_FORMAT \\\n",
    "    = INTEGER_FORMAT + '%'\n",
    "\n",
    "TEMPERATURE_FLOAT_FORMAT \\\n",
    "    = FLOAT_FORMAT +'° F'"
   ]
  }
 ],
 "metadata": {
  "kernelspec": {
   "display_name": "Python 3 (ipykernel)",
   "language": "python",
   "name": "python3"
  },
  "language_info": {
   "codemirror_mode": {
    "name": "ipython",
    "version": 3
   },
   "file_extension": ".py",
   "mimetype": "text/x-python",
   "name": "python",
   "nbconvert_exporter": "python",
   "pygments_lexer": "ipython3",
   "version": "3.11.4"
  }
 },
 "nbformat": 4,
 "nbformat_minor": 5
}
