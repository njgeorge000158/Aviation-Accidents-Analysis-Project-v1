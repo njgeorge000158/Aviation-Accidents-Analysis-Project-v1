{
 "cells": [
  {
   "cell_type": "code",
   "execution_count": 5,
   "id": "2d328efa",
   "metadata": {},
   "outputs": [],
   "source": [
    "from selenium import webdriver\n",
    "\n",
    "driver = webdriver.Chrome()"
   ]
  },
  {
   "cell_type": "code",
   "execution_count": 1,
   "id": "d49a2b5b",
   "metadata": {},
   "outputs": [],
   "source": [
    "import pandas as pd"
   ]
  },
  {
   "cell_type": "code",
   "execution_count": 7,
   "id": "6acdff9a",
   "metadata": {},
   "outputs": [
    {
     "data": {
      "text/html": [
       "<div>\n",
       "<style scoped>\n",
       "    .dataframe tbody tr th:only-of-type {\n",
       "        vertical-align: middle;\n",
       "    }\n",
       "\n",
       "    .dataframe tbody tr th {\n",
       "        vertical-align: top;\n",
       "    }\n",
       "\n",
       "    .dataframe thead th {\n",
       "        text-align: right;\n",
       "    }\n",
       "</style>\n",
       "<table border=\"1\" class=\"dataframe\">\n",
       "  <thead>\n",
       "    <tr style=\"text-align: right;\">\n",
       "      <th></th>\n",
       "      <th>Unnamed: 0</th>\n",
       "      <th>acc. date</th>\n",
       "      <th>type</th>\n",
       "      <th>operator</th>\n",
       "      <th>fat.</th>\n",
       "      <th>location</th>\n",
       "      <th>dmg</th>\n",
       "    </tr>\n",
       "  </thead>\n",
       "  <tbody>\n",
       "    <tr>\n",
       "      <th>0</th>\n",
       "      <td>0</td>\n",
       "      <td>5 Jan 1972</td>\n",
       "      <td>Douglas C-47B-20-DK Dakota 4MFP</td>\n",
       "      <td>McKenzie Air</td>\n",
       "      <td>0</td>\n",
       "      <td>Norman Wells Airport, NT (YVQ)</td>\n",
       "      <td>sub</td>\n",
       "    </tr>\n",
       "    <tr>\n",
       "      <th>1</th>\n",
       "      <td>1</td>\n",
       "      <td>6 Jan 1972</td>\n",
       "      <td>Hawker Siddeley HS-748-230 Srs. 2A</td>\n",
       "      <td>SAESA - Servicios Aéreos Especiales SA</td>\n",
       "      <td>23</td>\n",
       "      <td>40 km NW of Chetumal</td>\n",
       "      <td>w/o</td>\n",
       "    </tr>\n",
       "    <tr>\n",
       "      <th>2</th>\n",
       "      <td>2</td>\n",
       "      <td>7 Jan 1972</td>\n",
       "      <td>Boeing 727-200</td>\n",
       "      <td>Pacific Southwest Airlines - PSA</td>\n",
       "      <td>0</td>\n",
       "      <td>Havana-José Martí International Airport (HAV)</td>\n",
       "      <td>non</td>\n",
       "    </tr>\n",
       "    <tr>\n",
       "      <th>3</th>\n",
       "      <td>3</td>\n",
       "      <td>7 Jan 1972</td>\n",
       "      <td>Sud Aviation SE-210 Caravelle VI-R</td>\n",
       "      <td>Iberia</td>\n",
       "      <td>104</td>\n",
       "      <td>ca 15 km W of Ibiza Airport (IBZ)</td>\n",
       "      <td>dst</td>\n",
       "    </tr>\n",
       "    <tr>\n",
       "      <th>4</th>\n",
       "      <td>4</td>\n",
       "      <td>7 Jan 1972</td>\n",
       "      <td>Convair CV-340-68B</td>\n",
       "      <td>Saudi Arabian Airlines</td>\n",
       "      <td>0</td>\n",
       "      <td>Jeddah International Airport</td>\n",
       "      <td>w/o</td>\n",
       "    </tr>\n",
       "  </tbody>\n",
       "</table>\n",
       "</div>"
      ],
      "text/plain": [
       "   Unnamed: 0   acc. date                                type  \\\n",
       "0           0  5 Jan 1972     Douglas C-47B-20-DK Dakota 4MFP   \n",
       "1           1  6 Jan 1972  Hawker Siddeley HS-748-230 Srs. 2A   \n",
       "2           2  7 Jan 1972                      Boeing 727-200   \n",
       "3           3  7 Jan 1972  Sud Aviation SE-210 Caravelle VI-R   \n",
       "4           4  7 Jan 1972                  Convair CV-340-68B   \n",
       "\n",
       "                                 operator fat.  \\\n",
       "0                            McKenzie Air    0   \n",
       "1  SAESA - Servicios Aéreos Especiales SA   23   \n",
       "2        Pacific Southwest Airlines - PSA    0   \n",
       "3                                  Iberia  104   \n",
       "4                  Saudi Arabian Airlines    0   \n",
       "\n",
       "                                        location  dmg  \n",
       "0                 Norman Wells Airport, NT (YVQ)  sub  \n",
       "1                           40 km NW of Chetumal  w/o  \n",
       "2  Havana-José Martí International Airport (HAV)  non  \n",
       "3              ca 15 km W of Ibiza Airport (IBZ)  dst  \n",
       "4                   Jeddah International Airport  w/o  "
      ]
     },
     "execution_count": 7,
     "metadata": {},
     "output_type": "execute_result"
    }
   ],
   "source": [
    "import pandas as pd\n",
    "df = pd.read_csv('Resources/AviationAccidentsData.csv')\n",
    "pd.set_option('display.max_colwidth', 400)\n",
    "df.head()"
   ]
  },
  {
   "cell_type": "code",
   "execution_count": 3,
   "id": "6594de82",
   "metadata": {},
   "outputs": [
    {
     "name": "stdout",
     "output_type": "stream",
     "text": [
      "<class 'pandas.core.frame.DataFrame'>\n",
      "RangeIndex: 11916 entries, 0 to 11915\n",
      "Data columns (total 7 columns):\n",
      " #   Column      Non-Null Count  Dtype \n",
      "---  ------      --------------  ----- \n",
      " 0   Unnamed: 0  11916 non-null  int64 \n",
      " 1   acc. date   11916 non-null  object\n",
      " 2   type        11916 non-null  object\n",
      " 3   operator    11916 non-null  object\n",
      " 4   fat.        11343 non-null  object\n",
      " 5   location    11916 non-null  object\n",
      " 6   dmg         11913 non-null  object\n",
      "dtypes: int64(1), object(6)\n",
      "memory usage: 651.8+ KB\n"
     ]
    }
   ],
   "source": [
    "df.info()"
   ]
  },
  {
   "cell_type": "code",
   "execution_count": 6,
   "id": "dfa6e93a",
   "metadata": {},
   "outputs": [],
   "source": [
    "df.dropna(subset = ['fat.'], inplace=True)"
   ]
  },
  {
   "cell_type": "code",
   "execution_count": 34,
   "id": "4d1c3289",
   "metadata": {},
   "outputs": [
    {
     "name": "stdout",
     "output_type": "stream",
     "text": [
      "       Unnamed: 0    acc. date                                      type  \\\n",
      "0               0   5 Jan 1972           Douglas C-47B-20-DK Dakota 4MFP   \n",
      "1               1   6 Jan 1972        Hawker Siddeley HS-748-230 Srs. 2A   \n",
      "2               2   7 Jan 1972                            Boeing 727-200   \n",
      "3               3   7 Jan 1972        Sud Aviation SE-210 Caravelle VI-R   \n",
      "4               4   7 Jan 1972                        Convair CV-340-68B   \n",
      "...           ...          ...                                       ...   \n",
      "11911       11911  23 Dec 2022  de Havilland Canada DHC-6 Twin Otter 300   \n",
      "11912       11912  26 Dec 2022                            Boeing 737-3Z0   \n",
      "11913       11913  27 Dec 2022                Embraer EMB-505 Phenom 300   \n",
      "11914       11914  30 Dec 2022           Canadair CL-600S Challenger 600   \n",
      "11915       11915  31 Dec 2022                 Cessna 208B Grand Caravan   \n",
      "\n",
      "                                     operator fat.  \\\n",
      "0                                McKenzie Air    0   \n",
      "1      SAESA - Servicios Aéreos Especiales SA   23   \n",
      "2            Pacific Southwest Airlines - PSA    0   \n",
      "3                                      Iberia  104   \n",
      "4                      Saudi Arabian Airlines    0   \n",
      "...                                       ...  ...   \n",
      "11911                              Rimbun Air    0   \n",
      "11912                          Tarco Aviation    0   \n",
      "11913                         Skystallion LLC    0   \n",
      "11914                                 private    2   \n",
      "11915                            BAR Aviation    0   \n",
      "\n",
      "                                              location  dmg  \n",
      "0                       Norman Wells Airport, NT (YVQ)  sub  \n",
      "1                                 40 km NW of Chetumal  w/o  \n",
      "2        Havana-José Martí International Airport (HAV)  non  \n",
      "3                    ca 15 km W of Ibiza Airport (IBZ)  dst  \n",
      "4                         Jeddah International Airport  w/o  \n",
      "...                                                ...  ...  \n",
      "11911                          Moanemani Airport (ONI)  sub  \n",
      "11912  Mogadishu Aden Adde International Airport (MGQ)  sub  \n",
      "11913                      Hawthorne Airport, CA (HHR)  sub  \n",
      "11914                                      near Venado  dst  \n",
      "11915                                    Mweya Airport  w/o  \n",
      "\n",
      "[11343 rows x 7 columns]\n"
     ]
    }
   ],
   "source": [
    "df8 = df7.replace('3+2','5')\n"
   ]
  },
  {
   "cell_type": "code",
   "execution_count": 56,
   "id": "49afc0c6",
   "metadata": {},
   "outputs": [],
   "source": [
    "df9 = df8.replace(['7+20', '20+7', '0+1', '12+1', '43+2', '2+1', '0+68', '3+1', '2+2',\n",
    "       '5+11', '11+5', '6+8', '2+7', '0+3', '3+6', '0+7', '0+6', '6+26',\n",
    "       '0+13', '12+2', '7+2', '1+3', '25+1', '6+5', '61+1', '0+5', '45+1',\n",
    "       '18+52', '52+18', '113+63', '63+113', '1+4', '3+88', '52+19',\n",
    "       '8+1', '248+335', '335+248', '63+9', '14+15', '15+14', '2+3',\n",
    "       '16+2', '4+2', '15+17', '135+9', '77+1', '1+32', '271+2', '84+94',\n",
    "       '94+84', '72+1', '3+3', '6+2', '5+3', '0+2', '13+2', '31+6',\n",
    "       '33+7', '74+4', '145+8', '0+11', '4+1', '8+9', '5+4', '42+51',\n",
    "       '51+42', '3+22', '1+18', '18+1', '15+2', '4+49', '174+4', '4+9',\n",
    "       '9+4', '5+5', '15+79', '79+15', '134+1', '1+1', '2+4', '20+5',\n",
    "       '64+18', '8+2', '6+1', '5+44', '154+2', '9+8', '44+2', '259+11',\n",
    "       '0+4', '5+2', '0+8', '75+4', '126+24', '4+3', '1+2', '3+24',\n",
    "       '21+4', '46+82', '82+46', '12+22', '22+12', '13+14', '14+13',\n",
    "       '133+2', '5+12', '4+4', '46+6', '24+4', '4+39', '6+7', '7+6',\n",
    "       '10+3', '131+2', '5+1', '124+1', '4+5', '0+23', '3+5', '0+237',\n",
    "       '4+18', '4+23', '95+4', '37+312', '312+37', '9+24', '24+9',\n",
    "       '23+45', '196+7', '21+1', '14+1', '6+3', '70+10', '11+13', '18+3',\n",
    "       '63+2', '42+7', '55+5', '109+4', '8+6', '19+1', '64+125', '65+900',\n",
    "       '92+1600', '4+110', '110+8', '260+5', '73+30', '3+4', '2+69',\n",
    "       '69+2', '6+6', '6+9', '5+10', '20+13', '53+2', '100+49', '94+12',\n",
    "       '0+154', '3+7', '187+12', '21+28', '2+6', '3+37', '9+7', '49+1',\n",
    "       '97+2', '8+3', '9+14', '0+10', '153+6', '7+4', '7+25', '122+17',\n",
    "       '11+3', '4+35', '1+5', '5+14', '21+6', '97+1', '50+3'], ['27', '27', '1', '13', '45', '3', '68', '4', '4',\n",
    "       '16', '16', '14', '9', '3', '9', '7', '6', '32',\n",
    "       '13', '14', '9', '4', '26', '11', '67', '5', '46',\n",
    "       '70', '70', '176', '176', '5', '91', '71',\n",
    "       '9', '583', '583', '72', '29', '29', '5',\n",
    "       '18', '6', '32', '144', '78', '33', '273', '178',\n",
    "       '178', '73', '6', '8', '8', '2', '15', '31+6',\n",
    "       '33+7', '74+4', '145+8', '0+11', '4+1', '17', '9', '83',\n",
    "       '83', '25', '19', '19', '17', '53', '178', '13',\n",
    "       '13', '10', '94', '94', '135', '2', '6', '25',\n",
    "       '82', '10', '7', '49', '156', '17', '46', '270',\n",
    "       '4', '7', '8', '79', '150', '7', '3', '27',\n",
    "       '25', '128', '128', '34', '34', '27', '27',\n",
    "       '135', '17', '8', '52', '28', '43', '13', '13',\n",
    "       '13', '133', '6', '125', '9', '23', '8', '237',\n",
    "       '22', '27', '99', '339', '339', '33', '33',\n",
    "       '68', '203', '22', '15', '9', '80', '24', '21',\n",
    "       '66', '49', '60', '113', '14', '20', '189', '965',\n",
    "       '1692', '114', '119', '265', '103', '7', '71',\n",
    "       '71', '12', '15', '15', '33', '55', '149', '106',\n",
    "       '154', '10', '199', '49', '8', '40', '16', '50',\n",
    "       '99', '11', '23', '10', '159', '11', '32', '139',\n",
    "       '14', '39', '6', '19', '27', '98', '53'])"
   ]
  },
  {
   "cell_type": "code",
   "execution_count": 64,
   "id": "8d35b799",
   "metadata": {},
   "outputs": [],
   "source": [
    "df10 = df9.replace(['San Fernando, BA','Düsseldorf International Airport (DUS)','ca 0,5 km S of Abu Dhabi-Bateen Airport (AZI)'],['0','0','0'])"
   ]
  },
  {
   "cell_type": "code",
   "execution_count": 61,
   "id": "b494403f",
   "metadata": {},
   "outputs": [
    {
     "data": {
      "text/plain": [
       "array([], dtype=object)"
      ]
     },
     "execution_count": 61,
     "metadata": {},
     "output_type": "execute_result"
    }
   ],
   "source": [
    "df11 = df10[df10[\"fat.\"].str.contains(\"\\+\")]\n",
    "df11['fat.'].unique()"
   ]
  },
  {
   "cell_type": "code",
   "execution_count": 65,
   "id": "ff5bc6bb",
   "metadata": {},
   "outputs": [
    {
     "data": {
      "text/plain": [
       "array(['0', '23', '104', '9', '20', '39', '1', '27', '2', '6', '19', '5',\n",
       "       '17', '112', '4', '30', '14', '25', '18', '43', '3', '11', '115',\n",
       "       '8', '33', '122', '22', '32', '86', '81', '12', '118', '7', '13',\n",
       "       '10', '38', '156', '28', '34', '102', '31', '109', '174', '29',\n",
       "       '37', '60', '35', '61', '155', '26', '45', '40', '101', '176',\n",
       "       '66', '108', '79', '68', '58', '16', '63', '48', '123', '78', '88',\n",
       "       '85', '56', '42', '24', '41', '51', '106', '97', '346', '36', '15',\n",
       "       '107', '44', '47', '72', '75', '59', '92', '191', '52', '138',\n",
       "       '113', '188', '21', '126', '67', '111', '46', '76', '70', '154',\n",
       "       '73', '95', '91', '50', '71', '90', '77', '583', '131', '100',\n",
       "       '213', '144', '183', '57', '273', '178', '257', '128', '87', '55',\n",
       "       '146', '166', '301', '89', '110', '80', '99', '180', '53', '137',\n",
       "       '132', '153', '119', '269', '130', '181', '83', '49', '148', '94',\n",
       "       '329', '200', '135', '520', '256', '167', '54', '82', '103', '159',\n",
       "       '143', '290', '133', '270', '150', '170', '98', '223', '261', '69',\n",
       "       '84', '141', '157', '116', '125', '264', '160', '65', '62', '237',\n",
       "       '189', '230', '339', '228', '234', '74', '203', '229', '217',\n",
       "       '169', '145', '965', '1692', '114', '265', '129', '225', '275',\n",
       "       '105', '121', '149', '117', '96', '199', '152', '168', '158',\n",
       "       '127', '239', '298', '162', '139', '224'], dtype=object)"
      ]
     },
     "execution_count": 65,
     "metadata": {},
     "output_type": "execute_result"
    }
   ],
   "source": [
    "df11['fat.'].unique()"
   ]
  },
  {
   "cell_type": "code",
   "execution_count": 66,
   "id": "aca1e01b",
   "metadata": {},
   "outputs": [],
   "source": [
    "df11[\"fat.\"] = pd.to_numeric(df11[\"fat.\"])"
   ]
  },
  {
   "cell_type": "code",
   "execution_count": 68,
   "id": "3a12ea07",
   "metadata": {},
   "outputs": [],
   "source": [
    "Aviation_Accident_df = df11.loc[df11[\"fat.\"] >= 50]"
   ]
  },
  {
   "cell_type": "code",
   "execution_count": 69,
   "id": "526104de",
   "metadata": {},
   "outputs": [
    {
     "name": "stdout",
     "output_type": "stream",
     "text": [
      "383\n"
     ]
    }
   ],
   "source": [
    "print(len(Aviation_Accident_df))"
   ]
  },
  {
   "cell_type": "code",
   "execution_count": 70,
   "id": "6641b2e3",
   "metadata": {},
   "outputs": [
    {
     "data": {
      "text/html": [
       "<div>\n",
       "<style scoped>\n",
       "    .dataframe tbody tr th:only-of-type {\n",
       "        vertical-align: middle;\n",
       "    }\n",
       "\n",
       "    .dataframe tbody tr th {\n",
       "        vertical-align: top;\n",
       "    }\n",
       "\n",
       "    .dataframe thead th {\n",
       "        text-align: right;\n",
       "    }\n",
       "</style>\n",
       "<table border=\"1\" class=\"dataframe\">\n",
       "  <thead>\n",
       "    <tr style=\"text-align: right;\">\n",
       "      <th></th>\n",
       "      <th>Unnamed: 0</th>\n",
       "      <th>acc. date</th>\n",
       "      <th>type</th>\n",
       "      <th>operator</th>\n",
       "      <th>fat.</th>\n",
       "      <th>location</th>\n",
       "      <th>dmg</th>\n",
       "    </tr>\n",
       "  </thead>\n",
       "  <tbody>\n",
       "    <tr>\n",
       "      <th>3</th>\n",
       "      <td>3</td>\n",
       "      <td>7 Jan 1972</td>\n",
       "      <td>Sud Aviation SE-210 Caravelle VI-R</td>\n",
       "      <td>Iberia</td>\n",
       "      <td>104</td>\n",
       "      <td>ca 15 km W of Ibiza Airport (IBZ)</td>\n",
       "      <td>dst</td>\n",
       "    </tr>\n",
       "    <tr>\n",
       "      <th>56</th>\n",
       "      <td>56</td>\n",
       "      <td>14 Mar 1972</td>\n",
       "      <td>Sud Aviation SE-210 Caravelle 10B3</td>\n",
       "      <td>Sterling Airways</td>\n",
       "      <td>112</td>\n",
       "      <td>ca 20 km W of Kalba</td>\n",
       "      <td>dst</td>\n",
       "    </tr>\n",
       "    <tr>\n",
       "      <th>109</th>\n",
       "      <td>109</td>\n",
       "      <td>5 May 1972</td>\n",
       "      <td>Douglas DC-8-43</td>\n",
       "      <td>Alitalia</td>\n",
       "      <td>115</td>\n",
       "      <td>5 km SW of Palermo</td>\n",
       "      <td>dst</td>\n",
       "    </tr>\n",
       "    <tr>\n",
       "      <th>124</th>\n",
       "      <td>124</td>\n",
       "      <td>18 May 1972</td>\n",
       "      <td>Antonov An-10A</td>\n",
       "      <td>Aeroflot / Ukraine</td>\n",
       "      <td>122</td>\n",
       "      <td>24 km from Kharkov Airport (HRK)</td>\n",
       "      <td>dst</td>\n",
       "    </tr>\n",
       "    <tr>\n",
       "      <th>148</th>\n",
       "      <td>148</td>\n",
       "      <td>14 Jun 1972</td>\n",
       "      <td>Douglas DC-8-53</td>\n",
       "      <td>Japan Air Lines - JAL</td>\n",
       "      <td>86</td>\n",
       "      <td>ca 20 km E of Delhi-Palam Airport (DEL)</td>\n",
       "      <td>dst</td>\n",
       "    </tr>\n",
       "  </tbody>\n",
       "</table>\n",
       "</div>"
      ],
      "text/plain": [
       "     Unnamed: 0    acc. date                                type  \\\n",
       "3             3   7 Jan 1972  Sud Aviation SE-210 Caravelle VI-R   \n",
       "56           56  14 Mar 1972  Sud Aviation SE-210 Caravelle 10B3   \n",
       "109         109   5 May 1972                     Douglas DC-8-43   \n",
       "124         124  18 May 1972                      Antonov An-10A   \n",
       "148         148  14 Jun 1972                     Douglas DC-8-53   \n",
       "\n",
       "                  operator  fat.                                 location  dmg  \n",
       "3                   Iberia   104        ca 15 km W of Ibiza Airport (IBZ)  dst  \n",
       "56        Sterling Airways   112                      ca 20 km W of Kalba  dst  \n",
       "109               Alitalia   115                       5 km SW of Palermo  dst  \n",
       "124     Aeroflot / Ukraine   122         24 km from Kharkov Airport (HRK)  dst  \n",
       "148  Japan Air Lines - JAL    86  ca 20 km E of Delhi-Palam Airport (DEL)  dst  "
      ]
     },
     "execution_count": 70,
     "metadata": {},
     "output_type": "execute_result"
    }
   ],
   "source": [
    "Aviation_Accident_df.head()"
   ]
  },
  {
   "cell_type": "code",
   "execution_count": 76,
   "id": "692833f6",
   "metadata": {},
   "outputs": [],
   "source": [
    "from pathlib import Path \n",
    "filepath = Path('Resources/Aviation_Accident.csv')  \n",
    "filepath.parent.mkdir(parents=True, exist_ok=True)  \n",
    "Aviation_Accident_df.to_csv(filepath,index=False) "
   ]
  },
  {
   "cell_type": "code",
   "execution_count": null,
   "id": "df832d7d",
   "metadata": {},
   "outputs": [],
   "source": []
  }
 ],
 "metadata": {
  "kernelspec": {
   "display_name": "Python 3 (ipykernel)",
   "language": "python",
   "name": "python3"
  },
  "language_info": {
   "codemirror_mode": {
    "name": "ipython",
    "version": 3
   },
   "file_extension": ".py",
   "mimetype": "text/x-python",
   "name": "python",
   "nbconvert_exporter": "python",
   "pygments_lexer": "ipython3",
   "version": "3.10.9"
  }
 },
 "nbformat": 4,
 "nbformat_minor": 5
}
